{
 "cells": [
  {
   "cell_type": "markdown",
   "id": "56316c81-e9f9-4a9a-9beb-e69a5497b0b2",
   "metadata": {},
   "source": [
    "<center>\n",
    "    <img src=\"https://cf-courses-data.s3.us.cloud-object-storage.appdomain.cloud/IBMDeveloperSkillsNetwork-DS0105EN-SkillsNetwork/labs/Module2/images/SN_web_lightmode.png\" width=\"300\" alt=\"cognitiveclass.ai logo\">\n",
    "</center>\n"
   ]
  },
  {
   "cell_type": "markdown",
   "id": "c76da88d-a57d-4ecb-97d9-6350d3a9404c",
   "metadata": {},
   "source": [
    "#### Add your code below following the instructions given in the course"
   ]
  },
  {
   "cell_type": "markdown",
   "id": "c8eea50c-a3b0-49b9-ae12-c6c55694d06c",
   "metadata": {},
   "source": [
    "# Data Science Tools and Ecosystem"
   ]
  },
  {
   "cell_type": "markdown",
   "id": "22efbf7b-3436-4b0d-8a7c-44bc79dabc39",
   "metadata": {},
   "source": [
    "In this notebook, Data Science Tools and Ecosystems are summarized."
   ]
  },
  {
   "cell_type": "markdown",
   "id": "a291834e-4b20-443b-b363-720c5cab7915",
   "metadata": {},
   "source": [
    "**Objectives:**\n",
    "- List popular languages\n",
    "- List popular libraries\n",
    "- Demonstrate basic arithmetic in python"
   ]
  },
  {
   "cell_type": "markdown",
   "id": "19a0873f-9193-4ee9-a428-8e1f111a1f87",
   "metadata": {},
   "source": [
    "Some of the popular languages that Data Scientists use are:"
   ]
  },
  {
   "cell_type": "markdown",
   "id": "b431a85f-363e-4ff1-8f73-1a5dd4499f1b",
   "metadata": {},
   "source": [
    "1. Python\n",
    "2. C\n",
    "3. Java"
   ]
  },
  {
   "cell_type": "markdown",
   "id": "646d0492-0abb-4c82-b941-a5b12a10c151",
   "metadata": {},
   "source": [
    "Some of the commonly used libraries used by Data Scientists include:"
   ]
  },
  {
   "cell_type": "markdown",
   "id": "cc7c31d0-831c-40de-8285-a22a39556740",
   "metadata": {},
   "source": [
    "1. Pandas\n",
    "2. ggplot\n",
    "3. TensorFlow"
   ]
  },
  {
   "cell_type": "markdown",
   "id": "ad207f64-62d9-48c1-9a98-7da984aa4145",
   "metadata": {
    "jp-MarkdownHeadingCollapsed": true
   },
   "source": [
    "|Data Science Tools|\n",
    "|------------------|\n",
    "| MySQL |\n",
    "| Node Red |\n",
    "| git |"
   ]
  },
  {
   "cell_type": "markdown",
   "id": "67651490-f50a-4847-9489-5bdaf5b16010",
   "metadata": {},
   "source": [
    "### Below are a few examples of evaluating arithmetic expressions in Python."
   ]
  },
  {
   "cell_type": "code",
   "execution_count": 10,
   "id": "ec1004b2-8fa1-4656-81b1-e0f7fcabead3",
   "metadata": {},
   "outputs": [
    {
     "data": {
      "text/plain": [
       "17"
      ]
     },
     "execution_count": 10,
     "metadata": {},
     "output_type": "execute_result"
    }
   ],
   "source": [
    "#this is a simple arithmetic expression to multiply then add integers.\n",
    "(3*4)+5"
   ]
  },
  {
   "cell_type": "code",
   "execution_count": 11,
   "id": "2cc92418-e562-4de3-9a01-5b86e355ff05",
   "metadata": {},
   "outputs": [
    {
     "name": "stdout",
     "output_type": "stream",
     "text": [
      "the equivalent hours from the given minutes is:\n",
      "3.3333333333333335\n"
     ]
    }
   ],
   "source": [
    "#this will convert 200 minutes to hours by dividing by 60.\n",
    "current_minute = 200\n",
    "current_hour = current_minute/60\n",
    "print('the equivalent hours from the given minutes is:')\n",
    "print(current_hour)"
   ]
  },
  {
   "cell_type": "markdown",
   "id": "e6d3911c-80c9-4457-b8cd-de194f43ee7b",
   "metadata": {},
   "source": [
    "## Author\n",
    "Emmanuel DeFaut"
   ]
  },
  {
   "cell_type": "code",
   "execution_count": null,
   "id": "2ae62111-081c-4328-82ed-aae32be03ef5",
   "metadata": {},
   "outputs": [],
   "source": []
  }
 ],
 "metadata": {
  "kernelspec": {
   "display_name": "Python 3 (ipykernel)",
   "language": "python",
   "name": "python3"
  },
  "language_info": {
   "codemirror_mode": {
    "name": "ipython",
    "version": 3
   },
   "file_extension": ".py",
   "mimetype": "text/x-python",
   "name": "python",
   "nbconvert_exporter": "python",
   "pygments_lexer": "ipython3",
   "version": "3.13.2"
  }
 },
 "nbformat": 4,
 "nbformat_minor": 5
}
